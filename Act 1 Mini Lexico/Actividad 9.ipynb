{
 "cells": [
  {
   "cell_type": "code",
   "execution_count": 1,
   "id": "initial_id",
   "metadata": {
    "collapsed": true,
    "ExecuteTime": {
     "end_time": "2023-09-16T05:55:42.887467400Z",
     "start_time": "2023-09-16T05:55:42.083198800Z"
    }
   },
   "outputs": [],
   "source": [
    "#Imports\n",
    "import matplotlib as plt\n",
    "import pandas as pd\n",
    "import numpy as np\n",
    "import re\n"
   ]
  },
  {
   "cell_type": "code",
   "execution_count": 2,
   "outputs": [],
   "source": [
    "#Global Definitions\n",
    "RegexToRemove = r'\\(|\\)|,|\\-|\\/|\\\"|\\[|\\]'\n",
    "WordsToRemove = [\"de\", \"en\", \"con\", \"y\", \"para\", \"x\", \"la\", \"el\", \"a\", \"no\", \"un\", \"dos\",\n",
    "                 \"tipo\", \"sin\", \"pro\", \"los\", \"las\", \"que\", \"por\", \"and\", \"se\", \"es\", \"al\",\n",
    "                 \"del\", \"m\", \"gb\", \"d\", \"va\", \"ns\", \"dd\", \"ddr\", \"o\", \"s\", \"f\"]\n",
    "WordToReplace = [\"disco duro\", \"monitor de color\", \"carro transportador de libros\", \"reproductor de discos compactos\", \"aire acondicionado\"]\n",
    "Replacement = [\"disco_duro\", \"monitor_de_color\", \"carro_transportador_de_libros\", \"reproductor_de_discos_compactos\", \"aire_acondicionado\"]\n",
    "Materiales = [\"madera\", \"metal\", \"metalica\", \"metalico\", \"acero inoxidable\", \"aluminio\", \"corcho\", \"tela\"]\n",
    "Marcas = [\"pentium\", \"hp\", \"dell\", \"intel\", \"sony\"]\n",
    "Colores = [\"negro\", \"verde\", \"cafe\", \"azul\", \"\"]\n",
    "NonProducts = [\"Color\", \"c\"]"
   ],
   "metadata": {
    "collapsed": false,
    "ExecuteTime": {
     "end_time": "2023-09-16T05:55:42.905020200Z",
     "start_time": "2023-09-16T05:55:42.887467400Z"
    }
   },
   "id": "3139f9101ef186b8"
  },
  {
   "cell_type": "code",
   "execution_count": 3,
   "outputs": [],
   "source": [
    "#Fuctions\n",
    "def GetDfInfo(Df):\n",
    "    WordCountDict = dict()\n",
    "    Entries = list()\n",
    "    for Row in Df.values:\n",
    "        Text = [Value + \" \" for Value in Row[1:] if type(Value) == str]\n",
    "        Text = \"\".join(Text).lower()\n",
    "        Text = re.sub(RegexToRemove, \" \", Text)\n",
    "        for i, _Word in enumerate(WordToReplace):\n",
    "            if _Word in Text and Text.find(_Word) <= len(_Word):\n",
    "                Text = Text.replace(_Word, Replacement[i])\n",
    "        Entries.append(Text)\n",
    "        Words = list(filter(lambda x: x not in WordsToRemove, Text.split(\" \")))\n",
    "        for Word in Words:\n",
    "            if Word == \"\":\n",
    "                continue\n",
    "            if Word in WordCountDict:\n",
    "                WordCountDict[Word] += 1\n",
    "            else:\n",
    "                WordCountDict[Word] = 1\n",
    "    return WordCountDict, np.array(Entries).reshape(len(Entries), 1)\n",
    "\n",
    "def FixDfEntries(Entries):\n",
    "    FixeEntries = {\"Tipo\": [],\n",
    "             \"Producto\": [],\n",
    "             \"Marca\": [],\n",
    "             \"Color\": [],\n",
    "             \"Material\": [],\n",
    "             \"Memoria\": [],\n",
    "             \"Velocidad\": [],\n",
    "             \"Datos_Adicionales\": []\n",
    "             }\n",
    "    Size = len(Entries)\n",
    "    for i, Entry in enumerate(Entries):\n",
    "        if i == 3642:\n",
    "            pass\n",
    "        if not Entry or len(Entry[0].split(\" \")) < 3:\n",
    "            continue\n",
    "        Tipo, Entry = Entry[0].split(\" \", 1)\n",
    "\n",
    "        Producto, Entry = Entry.split(\" \", 1)\n",
    "        if Tipo == \"libro\":\n",
    "            Producto = Producto + \" \" + Entry\n",
    "        for NonProduct in NonProducts:\n",
    "            if Producto == NonProduct:\n",
    "                continue\n",
    "        if not Producto or re.match(\"\\d+.*\\d*\", Producto):\n",
    "            continue\n",
    "\n",
    "        Marca = re.findall(r\"marca [a-z\\d]+\", Entry)\n",
    "        Marca = Marca[0] if Marca else \"N/A\"\n",
    "        if Marca == \"N/A\":\n",
    "            for _Marca in Marcas:\n",
    "                if _Marca in Entry:\n",
    "                    Marca = _Marca\n",
    "                    break\n",
    "\n",
    "        Entry = Entry.replace(Marca, \" \")\n",
    "        if Marca != \"N/A\":\n",
    "            Marca = Marca.split(\" \")[1] if Marca.find(\" \") > 0 else Marca\n",
    "\n",
    "        Color = re.findall(r\"color [a-zÀ-ÿ]+\", Entry)\n",
    "        Color = Color[0] if Color else \"N/A\"\n",
    "        Entry = Entry.replace(Color, \" \")\n",
    "        if Color != \"N/A\":\n",
    "            Color = Color.split(\" \")[1]\n",
    "\n",
    "        Material = \"N/A\"\n",
    "        for _Material in Materiales:\n",
    "            if _Material in Entry:\n",
    "                Material = _Material\n",
    "                break\n",
    "        Entry = Entry.replace(Material, \" \")\n",
    "\n",
    "        Memoria = re.findall(r\"\\d+ ?gb\", Entry)\n",
    "        Memoria = Memoria[0] if Memoria else \"N/A\"\n",
    "        FixeEntries[\"Memoria\"].append(Memoria)\n",
    "        Entry = Entry.replace(Memoria, \" \")\n",
    "\n",
    "        Velocidad = re.findall(r\"\\d+.?\\d* ?ghz\", Entry)\n",
    "        Velocidad = Velocidad[0] if Velocidad else \"N/A\"\n",
    "        Entry = Entry.replace(Velocidad, \" \")\n",
    "\n",
    "        FixeEntries[\"Tipo\"].append(Tipo)\n",
    "        FixeEntries[\"Producto\"].append(Producto)\n",
    "        FixeEntries[\"Marca\"].append(Marca)\n",
    "        FixeEntries[\"Color\"].append(Color)\n",
    "        FixeEntries[\"Material\"].append(Material)\n",
    "        FixeEntries[\"Velocidad\"].append(Velocidad)\n",
    "        FixeEntries[\"Datos_Adicionales\"].append(Entry)\n",
    "    return pd.DataFrame(FixeEntries)"
   ],
   "metadata": {
    "collapsed": false,
    "ExecuteTime": {
     "end_time": "2023-09-16T05:55:42.960818200Z",
     "start_time": "2023-09-16T05:55:42.904022600Z"
    }
   },
   "id": "95897cd553655667"
  },
  {
   "cell_type": "code",
   "execution_count": 5,
   "outputs": [
    {
     "data": {
      "text/plain": "            Tipo          Producto  Marca   Color  Material Memoria Velocidad  \\\n0     mobiliario         pintarron  alfra     N/A       N/A     N/A       N/A   \n1         equipo  monitor_de_color     hp     N/A       N/A     N/A       N/A   \n2     mobiliario             cesto    N/A     N/A  aluminio     N/A       N/A   \n3     transporte         automovil    N/A     N/A       N/A     N/A       N/A   \n4         equipo       trituradora    N/A     N/A       N/A     N/A       N/A   \n...          ...               ...    ...     ...       ...     ...       ...   \n9786      equipo       computadora    N/A     N/A       N/A     N/A       N/A   \n9787      equipo         pintarron  alfra  blanco       N/A     N/A       N/A   \n9788      equipo         regulador    N/A    azul       N/A     N/A       N/A   \n9789      equipo                tp    N/A     N/A       N/A     N/A       N/A   \n9790  mobiliario            mueble    N/A     N/A       N/A     N/A       N/A   \n\n                                      Datos_Adicionales  \n0                          60x90  alta 20 ene 1999   .   \n1           de 15   n.d. 017 2002 alta 07 octubre 2002   \n2       de basura   n.d. 007 2005  alta 31 agosto 2005   \n3     ford escort 1998  placas: hzg1129  no. serie: ...  \n4        de documentos. alta 13 sep 2006  n.d. 07 2006   \n...                                                 ...  \n9786   según factura 729 de vicente de la cruz herrera   \n9787           modelo 4840 120x240 sin numero de serie   \n9788          de voltaje industronic  15kva    blanco.   \n9789   link 1000base lx sfp optic smf mini gbic module   \n9790                 con gabinetes  cajones y puertas.   \n\n[9791 rows x 8 columns]",
      "text/html": "<div>\n<style scoped>\n    .dataframe tbody tr th:only-of-type {\n        vertical-align: middle;\n    }\n\n    .dataframe tbody tr th {\n        vertical-align: top;\n    }\n\n    .dataframe thead th {\n        text-align: right;\n    }\n</style>\n<table border=\"1\" class=\"dataframe\">\n  <thead>\n    <tr style=\"text-align: right;\">\n      <th></th>\n      <th>Tipo</th>\n      <th>Producto</th>\n      <th>Marca</th>\n      <th>Color</th>\n      <th>Material</th>\n      <th>Memoria</th>\n      <th>Velocidad</th>\n      <th>Datos_Adicionales</th>\n    </tr>\n  </thead>\n  <tbody>\n    <tr>\n      <th>0</th>\n      <td>mobiliario</td>\n      <td>pintarron</td>\n      <td>alfra</td>\n      <td>N/A</td>\n      <td>N/A</td>\n      <td>N/A</td>\n      <td>N/A</td>\n      <td>60x90  alta 20 ene 1999   .</td>\n    </tr>\n    <tr>\n      <th>1</th>\n      <td>equipo</td>\n      <td>monitor_de_color</td>\n      <td>hp</td>\n      <td>N/A</td>\n      <td>N/A</td>\n      <td>N/A</td>\n      <td>N/A</td>\n      <td>de 15   n.d. 017 2002 alta 07 octubre 2002</td>\n    </tr>\n    <tr>\n      <th>2</th>\n      <td>mobiliario</td>\n      <td>cesto</td>\n      <td>N/A</td>\n      <td>N/A</td>\n      <td>aluminio</td>\n      <td>N/A</td>\n      <td>N/A</td>\n      <td>de basura   n.d. 007 2005  alta 31 agosto 2005</td>\n    </tr>\n    <tr>\n      <th>3</th>\n      <td>transporte</td>\n      <td>automovil</td>\n      <td>N/A</td>\n      <td>N/A</td>\n      <td>N/A</td>\n      <td>N/A</td>\n      <td>N/A</td>\n      <td>ford escort 1998  placas: hzg1129  no. serie: ...</td>\n    </tr>\n    <tr>\n      <th>4</th>\n      <td>equipo</td>\n      <td>trituradora</td>\n      <td>N/A</td>\n      <td>N/A</td>\n      <td>N/A</td>\n      <td>N/A</td>\n      <td>N/A</td>\n      <td>de documentos. alta 13 sep 2006  n.d. 07 2006</td>\n    </tr>\n    <tr>\n      <th>...</th>\n      <td>...</td>\n      <td>...</td>\n      <td>...</td>\n      <td>...</td>\n      <td>...</td>\n      <td>...</td>\n      <td>...</td>\n      <td>...</td>\n    </tr>\n    <tr>\n      <th>9786</th>\n      <td>equipo</td>\n      <td>computadora</td>\n      <td>N/A</td>\n      <td>N/A</td>\n      <td>N/A</td>\n      <td>N/A</td>\n      <td>N/A</td>\n      <td>según factura 729 de vicente de la cruz herrera</td>\n    </tr>\n    <tr>\n      <th>9787</th>\n      <td>equipo</td>\n      <td>pintarron</td>\n      <td>alfra</td>\n      <td>blanco</td>\n      <td>N/A</td>\n      <td>N/A</td>\n      <td>N/A</td>\n      <td>modelo 4840 120x240 sin numero de serie</td>\n    </tr>\n    <tr>\n      <th>9788</th>\n      <td>equipo</td>\n      <td>regulador</td>\n      <td>N/A</td>\n      <td>azul</td>\n      <td>N/A</td>\n      <td>N/A</td>\n      <td>N/A</td>\n      <td>de voltaje industronic  15kva    blanco.</td>\n    </tr>\n    <tr>\n      <th>9789</th>\n      <td>equipo</td>\n      <td>tp</td>\n      <td>N/A</td>\n      <td>N/A</td>\n      <td>N/A</td>\n      <td>N/A</td>\n      <td>N/A</td>\n      <td>link 1000base lx sfp optic smf mini gbic module</td>\n    </tr>\n    <tr>\n      <th>9790</th>\n      <td>mobiliario</td>\n      <td>mueble</td>\n      <td>N/A</td>\n      <td>N/A</td>\n      <td>N/A</td>\n      <td>N/A</td>\n      <td>N/A</td>\n      <td>con gabinetes  cajones y puertas.</td>\n    </tr>\n  </tbody>\n</table>\n<p>9791 rows × 8 columns</p>\n</div>"
     },
     "execution_count": 5,
     "metadata": {},
     "output_type": "execute_result"
    }
   ],
   "source": [
    "#Data Processing\n",
    "DataSet = pd.read_excel(\"Actividad - 10,000.xlsx\")\n",
    "\n",
    "WordCount, Entries = GetDfInfo(DataSet)\n",
    "WordCount = list(WordCount.items())\n",
    "WordCount = np.array(WordCount, dtype=[(\"Word\", \"U10\"), (\"Count\", \"i4\")])\n",
    "WordCount = np.sort(WordCount, order=\"Count\")[::-1]\n",
    "WordCount\n",
    "\n",
    "NewDf = FixDfEntries(Entries)\n",
    "NewDf"
   ],
   "metadata": {
    "collapsed": false,
    "ExecuteTime": {
     "end_time": "2023-09-16T06:02:05.214830400Z",
     "start_time": "2023-09-16T05:56:06.333394800Z"
    }
   },
   "id": "63c77c55ec91c9b6"
  }
 ],
 "metadata": {
  "kernelspec": {
   "display_name": "Python 3",
   "language": "python",
   "name": "python3"
  },
  "language_info": {
   "codemirror_mode": {
    "name": "ipython",
    "version": 2
   },
   "file_extension": ".py",
   "mimetype": "text/x-python",
   "name": "python",
   "nbconvert_exporter": "python",
   "pygments_lexer": "ipython2",
   "version": "2.7.6"
  }
 },
 "nbformat": 4,
 "nbformat_minor": 5
}
